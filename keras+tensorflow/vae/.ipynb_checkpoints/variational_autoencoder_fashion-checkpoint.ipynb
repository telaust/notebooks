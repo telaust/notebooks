{
 "cells": [
  {
   "cell_type": "code",
   "execution_count": 14,
   "metadata": {},
   "outputs": [],
   "source": [
    "import tensorflow as tf\n",
    "from tensorflow import keras \n",
    "import numpy as np\n",
    "import matplotlib.pyplot as plt\n",
    "import keras.backend as K"
   ]
  },
  {
   "cell_type": "code",
   "execution_count": 4,
   "metadata": {},
   "outputs": [],
   "source": [
    "assert tf.__version__ > '2.0'"
   ]
  },
  {
   "cell_type": "code",
   "execution_count": 36,
   "metadata": {},
   "outputs": [
    {
     "name": "stdout",
     "output_type": "stream",
     "text": [
      "Downloading data from https://storage.googleapis.com/tensorflow/tf-keras-datasets/train-labels-idx1-ubyte.gz\n",
      "32768/29515 [=================================] - 0s 2us/step\n",
      "Downloading data from https://storage.googleapis.com/tensorflow/tf-keras-datasets/train-images-idx3-ubyte.gz\n",
      "26427392/26421880 [==============================] - 5s 0us/step\n",
      "Downloading data from https://storage.googleapis.com/tensorflow/tf-keras-datasets/t10k-labels-idx1-ubyte.gz\n",
      "8192/5148 [===============================================] - 0s 1us/step\n",
      "Downloading data from https://storage.googleapis.com/tensorflow/tf-keras-datasets/t10k-images-idx3-ubyte.gz\n",
      "4423680/4422102 [==============================] - 1s 0us/step\n"
     ]
    }
   ],
   "source": [
    "# Download dataset Fashion-MNIST\n",
    "(X_train_full, y_train_full), (X_test, y_test) = keras.datasets.fashion_mnist.load_data()\n",
    "X_train_full = X_train_full.astype(np.float32) / 255\n",
    "X_test = X_test.astype(np.float32) / 255\n",
    "X_train, X_valid = X_train_full[:-5000], X_train_full[-5000:]\n",
    "y_train, y_valid = y_train_full[:-5000], y_train_full[-5000:]"
   ]
  },
  {
   "cell_type": "code",
   "execution_count": 15,
   "metadata": {},
   "outputs": [],
   "source": [
    "class Sampling(keras.layers.Layer):\n",
    "    def call(self, inputs):\n",
    "        mean, log_var = inputs\n",
    "        return K.random_normal(tf.shape(log_var)) * K.exp(log_var / 2) + mean"
   ]
  },
  {
   "cell_type": "code",
   "execution_count": 40,
   "metadata": {},
   "outputs": [],
   "source": [
    "coding_size = 10\n",
    "\n",
    "\n",
    "inputs = keras.layers.Input(shape=[28, 28])\n",
    "x = keras.layers.Flatten()(inputs)\n",
    "x = keras.layers.Dense(units=150, activation='elu')(x)\n",
    "x = keras.layers.Dense(units=100, activation='elu')(x)\n",
    "coding_mean = keras.layers.Dense(units=coding_size)(x)\n",
    "coding_logvar = keras.layers.Dense(units=coding_size)(x)\n",
    "codings = Sampling()([coding_mean, coding_logvar])\n",
    "\n",
    "var_encoder = keras.models.Model(inputs=[inputs], outputs=[coding_mean,\n",
    "                                                         coding_logvar,\n",
    "                                                         codings])\n",
    "dec_inputs = keras.layers.Input(shape=(coding_size))\n",
    "x = keras.layers.Dense(units=100, activation='elu')(dec_inputs)\n",
    "x = keras.layers.Dense(units=150, activation='elu')(x)\n",
    "x = keras.layers.Dense(units=28*28, activation='sigmoid')(x)\n",
    "\n",
    "outputs = keras.layers.Reshape([28, 28])(x)\n",
    "var_decoder = keras.models.Model(inputs=[dec_inputs], outputs=[outputs])\n",
    "\n",
    "\n"
   ]
  },
  {
   "cell_type": "code",
   "execution_count": 41,
   "metadata": {},
   "outputs": [],
   "source": [
    "_, _, codings = var_encoder(inputs)\n",
    "reconstructions = var_decoder(codings)\n",
    "\n",
    "variational_ae = keras.models.Model(inputs=[inputs], outputs=[reconstructions])\n",
    "\n",
    "\n",
    "latent_loss = -0.5 * K.sum(\n",
    "    1 + coding_logvar - K.exp(coding_logvar) - K.square(coding_mean),\n",
    "    axis=-1)\n",
    "\n",
    "def rounded_accuracy(y_true, y_pred):\n",
    "    return keras.metrics.binary_accuracy(tf.round(y_true), tf.round(y_pred))\n"
   ]
  },
  {
   "cell_type": "code",
   "execution_count": 42,
   "metadata": {},
   "outputs": [],
   "source": [
    "variational_ae.add_loss(K.mean(latent_loss)/784)\n",
    "variational_ae.compile(loss='binary_crossentropy',\n",
    "                       optimizer='rmsprop',\n",
    "                       metrics=[rounded_accuracy] )"
   ]
  },
  {
   "cell_type": "code",
   "execution_count": 43,
   "metadata": {
    "scrolled": true
   },
   "outputs": [
    {
     "name": "stdout",
     "output_type": "stream",
     "text": [
      "Train on 55000 samples, validate on 5000 samples\n",
      "Epoch 1/25\n",
      "55000/55000 [==============================] - 8s 141us/sample - loss: 0.3800 - rounded_accuracy: 0.8642 - val_loss: 0.3442 - val_rounded_accuracy: 0.8983\n",
      "Epoch 2/25\n",
      "55000/55000 [==============================] - 6s 114us/sample - loss: 0.3365 - rounded_accuracy: 0.9004 - val_loss: 0.3348 - val_rounded_accuracy: 0.9038\n",
      "Epoch 3/25\n",
      "55000/55000 [==============================] - 6s 113us/sample - loss: 0.3276 - rounded_accuracy: 0.9078 - val_loss: 0.3265 - val_rounded_accuracy: 0.9107\n",
      "Epoch 4/25\n",
      "55000/55000 [==============================] - 6s 114us/sample - loss: 0.3233 - rounded_accuracy: 0.9114 - val_loss: 0.3245 - val_rounded_accuracy: 0.9136\n",
      "Epoch 5/25\n",
      "55000/55000 [==============================] - 6s 115us/sample - loss: 0.3208 - rounded_accuracy: 0.9137 - val_loss: 0.3227 - val_rounded_accuracy: 0.9105\n",
      "Epoch 6/25\n",
      "55000/55000 [==============================] - 6s 114us/sample - loss: 0.3189 - rounded_accuracy: 0.9153 - val_loss: 0.3192 - val_rounded_accuracy: 0.9163\n",
      "Epoch 7/25\n",
      "55000/55000 [==============================] - 7s 119us/sample - loss: 0.3175 - rounded_accuracy: 0.9164 - val_loss: 0.3185 - val_rounded_accuracy: 0.9158\n",
      "Epoch 8/25\n",
      "55000/55000 [==============================] - 7s 122us/sample - loss: 0.3164 - rounded_accuracy: 0.9175 - val_loss: 0.3191 - val_rounded_accuracy: 0.9172\n",
      "Epoch 9/25\n",
      "55000/55000 [==============================] - 6s 107us/sample - loss: 0.3156 - rounded_accuracy: 0.9182 - val_loss: 0.3166 - val_rounded_accuracy: 0.9196\n",
      "Epoch 10/25\n",
      "55000/55000 [==============================] - 7s 118us/sample - loss: 0.3148 - rounded_accuracy: 0.9189 - val_loss: 0.3161 - val_rounded_accuracy: 0.9193\n",
      "Epoch 11/25\n",
      "55000/55000 [==============================] - 7s 134us/sample - loss: 0.3141 - rounded_accuracy: 0.9195 - val_loss: 0.3153 - val_rounded_accuracy: 0.9195\n",
      "Epoch 12/25\n",
      "55000/55000 [==============================] - 6s 104us/sample - loss: 0.3134 - rounded_accuracy: 0.9201 - val_loss: 0.3158 - val_rounded_accuracy: 0.9171\n",
      "Epoch 13/25\n",
      "55000/55000 [==============================] - 6s 111us/sample - loss: 0.3129 - rounded_accuracy: 0.9205 - val_loss: 0.3144 - val_rounded_accuracy: 0.9203\n",
      "Epoch 14/25\n",
      "55000/55000 [==============================] - 6s 114us/sample - loss: 0.3126 - rounded_accuracy: 0.9210 - val_loss: 0.3143 - val_rounded_accuracy: 0.9197\n",
      "Epoch 15/25\n",
      "55000/55000 [==============================] - 7s 124us/sample - loss: 0.3120 - rounded_accuracy: 0.9213 - val_loss: 0.3151 - val_rounded_accuracy: 0.9192\n",
      "Epoch 16/25\n",
      "55000/55000 [==============================] - 6s 113us/sample - loss: 0.3117 - rounded_accuracy: 0.9217 - val_loss: 0.3151 - val_rounded_accuracy: 0.9163\n",
      "Epoch 17/25\n",
      "55000/55000 [==============================] - 6s 115us/sample - loss: 0.3113 - rounded_accuracy: 0.9220 - val_loss: 0.3133 - val_rounded_accuracy: 0.9227\n",
      "Epoch 18/25\n",
      "55000/55000 [==============================] - 6s 114us/sample - loss: 0.3110 - rounded_accuracy: 0.9222 - val_loss: 0.3132 - val_rounded_accuracy: 0.9216\n",
      "Epoch 19/25\n",
      "55000/55000 [==============================] - 6s 114us/sample - loss: 0.3108 - rounded_accuracy: 0.9225 - val_loss: 0.3135 - val_rounded_accuracy: 0.9212\n",
      "Epoch 20/25\n",
      "55000/55000 [==============================] - 7s 119us/sample - loss: 0.3105 - rounded_accuracy: 0.9227 - val_loss: 0.3117 - val_rounded_accuracy: 0.9234\n",
      "Epoch 21/25\n",
      "55000/55000 [==============================] - 6s 114us/sample - loss: 0.3102 - rounded_accuracy: 0.9228 - val_loss: 0.3129 - val_rounded_accuracy: 0.9230\n",
      "Epoch 22/25\n",
      "55000/55000 [==============================] - 7s 134us/sample - loss: 0.3100 - rounded_accuracy: 0.9231 - val_loss: 0.3125 - val_rounded_accuracy: 0.9208\n",
      "Epoch 23/25\n",
      "55000/55000 [==============================] - 6s 108us/sample - loss: 0.3097 - rounded_accuracy: 0.9233 - val_loss: 0.3116 - val_rounded_accuracy: 0.9219\n",
      "Epoch 24/25\n",
      "55000/55000 [==============================] - 6s 111us/sample - loss: 0.3096 - rounded_accuracy: 0.9235 - val_loss: 0.3117 - val_rounded_accuracy: 0.9240\n",
      "Epoch 25/25\n",
      "55000/55000 [==============================] - 6s 107us/sample - loss: 0.3094 - rounded_accuracy: 0.9236 - val_loss: 0.3110 - val_rounded_accuracy: 0.9242\n"
     ]
    }
   ],
   "source": [
    "model_history = variational_ae.fit(X_train, \n",
    "                                   X_train, \n",
    "                                   epochs=25, \n",
    "                                   batch_size=128, \n",
    "                                   validation_data=(X_valid, X_valid))"
   ]
  },
  {
   "cell_type": "code",
   "execution_count": 58,
   "metadata": {},
   "outputs": [
    {
     "data": {
      "image/png": "[encoded data removed]",
      "text/plain": [
       "<Figure size 432x288 with 1 Axes>"
      ]
     },
     "metadata": {
      "needs_background": "light"
     },
     "output_type": "display_data"
    }
   ],
   "source": [
    "loss_list = model_history.history['loss']\n",
    "plt.plot(loss_list, color='blue')\n",
    "plt.title('Loss history')\n",
    "plt.show()"
   ]
  },
  {
   "cell_type": "code",
   "execution_count": 57,
   "metadata": {},
   "outputs": [
    {
     "data": {
      "image/png": "[encoded data removed]",
      "text/plain": [
       "<Figure size 432x288 with 1 Axes>"
      ]
     },
     "metadata": {
      "needs_background": "light"
     },
     "output_type": "display_data"
    }
   ],
   "source": [
    "acc_list = model_history.history['rounded_accuracy']\n",
    "plt.plot(acc_list, color='red')\n",
    "plt.title('Accuracy history')\n",
    "plt.show()"
   ]
  },
  {
   "cell_type": "code",
   "execution_count": 61,
   "metadata": {},
   "outputs": [],
   "source": [
    "def plot_image(image):\n",
    "    plt.imshow(image, cmap=\"binary\")\n",
    "    plt.axis(\"off\")\n",
    "    \n",
    "def show_reconstructions(model, images=X_valid, n_images=5):\n",
    "    reconstructions = model.predict(images[:n_images])\n",
    "    fig = plt.figure(figsize=(n_images * 1.5, 3))\n",
    "    for image_index in range(n_images):\n",
    "        plt.subplot(2, n_images, 1 + image_index)\n",
    "        plot_image(images[image_index])\n",
    "        plt.subplot(2, n_images, 1 + n_images + image_index)\n",
    "        plot_image(reconstructions[image_index])"
   ]
  },
  {
   "cell_type": "code",
   "execution_count": 62,
   "metadata": {},
   "outputs": [
    {
     "data": {
      "image/png": "[encoded data removed]",
      "text/plain": [
       "<Figure size 540x216 with 10 Axes>"
      ]
     },
     "metadata": {
      "needs_background": "light"
     },
     "output_type": "display_data"
    }
   ],
   "source": [
    "show_reconstructions(variational_ae)"
   ]
  }
 ],
 "metadata": {
  "kernelspec": {
   "display_name": "Python 3",
   "language": "python",
   "name": "python3"
  },
  "language_info": {
   "codemirror_mode": {
    "name": "ipython",
    "version": 3
   },
   "file_extension": ".py",
   "mimetype": "text/x-python",
   "name": "python",
   "nbconvert_exporter": "python",
   "pygments_lexer": "ipython3",
   "version": "3.7.3"
  }
 },
 "nbformat": 4,
 "nbformat_minor": 4
}
