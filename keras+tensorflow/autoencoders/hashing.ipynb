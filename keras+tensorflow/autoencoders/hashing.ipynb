{
 "cells": [
  {
   "cell_type": "code",
   "execution_count": 1,
   "metadata": {},
   "outputs": [],
   "source": [
    "# Semantic Hashing\n",
    "# Семантическое хэширование\n",
    "import tensorflow as tf\n",
    "import numpy as np\n",
    "import matplotlib.pyplot as plt\n",
    "from tensorflow import keras as K\n",
    "from random import randrange"
   ]
  },
  {
   "cell_type": "code",
   "execution_count": 2,
   "metadata": {},
   "outputs": [],
   "source": [
    "# load data set\n",
    "(X_train_full, y_train_full), (X_test, y_test) = K.datasets.mnist.load_data()\n",
    "X_train_full = X_train_full.astype(np.float32) / 255\n",
    "X_test = X_test.astype(np.float32) / 255\n",
    "X_train, X_valid = X_train_full[:-5000], X_train_full[-5000:]\n",
    "y_train, y_valid = y_train_full[:-5000], y_train_full[-5000:]"
   ]
  },
  {
   "cell_type": "code",
   "execution_count": 3,
   "metadata": {},
   "outputs": [
    {
     "data": {
      "text/plain": [
       "numpy.ndarray"
      ]
     },
     "execution_count": 3,
     "metadata": {},
     "output_type": "execute_result"
    }
   ],
   "source": [
    "type(X_train)"
   ]
  },
  {
   "cell_type": "code",
   "execution_count": 142,
   "metadata": {},
   "outputs": [],
   "source": [
    "class Hashing(object):\n",
    "    def __init__(self, input_shape=[28, 28], latent_shape=32):\n",
    "        \n",
    "        assert isinstance(input_shape, list), \"input shape must be list\"\n",
    "        \n",
    "        self.latent_shape = latent_shape\n",
    "        \n",
    "        self.encoder = K.models.Sequential([\n",
    "            K.layers.Flatten(input_shape=input_shape),\n",
    "            K.layers.Dense(units=100, activation='elu'),\n",
    "            K.layers.GaussianNoise(1.),\n",
    "            K.layers.Dense(units=latent_shape, activation='sigmoid')\n",
    "        ])\n",
    "        \n",
    "        self.decoder = K.models.Sequential([\n",
    "            K.layers.Dense(units=100, activation='elu', \n",
    "                           input_shape=[latent_shape]),\n",
    "            \n",
    "            K.layers.Dense(units=np.prod(np.array(input_shape)), \n",
    "                           activation='sigmoid'),\n",
    "            \n",
    "            K.layers.Reshape(input_shape)\n",
    "        ])\n",
    "        \n",
    "        self.model = K.models.Sequential([self.encoder, self.decoder])\n",
    "        \n",
    "    def train(self, X_train, X_test, batch_size=32, epochs=5, \n",
    "              optimizer='adam', loss='binary_crossentropy'):\n",
    "        \n",
    "        self.model.compile(loss=loss, optimizer=optimizer, metrics=['accuracy'])\n",
    "        \n",
    "        self.history = self.model.fit(X_train, X_train, \n",
    "                                      batch_size=batch_size, \n",
    "                                      epochs=epochs,\n",
    "                                      validation_data=(X_test, X_test))\n",
    "        \n",
    "    def plot(self):   \n",
    "        fig = plt.figure(figsize=(15, 6))\n",
    "\n",
    "        ax1 = fig.add_subplot(1, 2, 1)\n",
    "        ax1.set_title(\"Accuracy\")\n",
    "        ax1.set_xlabel(\"Number of epochs\")\n",
    "        ax1.plot(self.history.history['accuracy'], color='blue')\n",
    "        ax1.grid(True)\n",
    "        \n",
    "        ax2 = fig.add_subplot(1, 2, 2)\n",
    "        ax2.set_title(\"Loss\")\n",
    "        ax2.set_xlabel(\"Number of epochs\")\n",
    "        ax2.plot(self.history.history['loss'], color='red')\n",
    "        ax2.grid(True)\n",
    "        \n",
    "        plt.show()\n",
    "        \n",
    "    def show_reconstructions(self, images=X_test, n_images=5):\n",
    "        reconstructions = self.model.predict(images[:n_images])\n",
    "        fig = plt.figure(figsize=(n_images * 1.5, 3))\n",
    "        \n",
    "        for image_index in range(n_images):\n",
    "            plt.subplot(2, n_images, 1 + image_index)\n",
    "            plot_image(images[image_index])\n",
    "            plt.subplot(2, n_images, 1 + n_images + image_index)\n",
    "            plot_image(reconstructions[image_index])  \n",
    "            \n",
    "    # return string binary hashes for all test set in decimal format \n",
    "    def get_hashes(self):\n",
    "        hashes = np.round(model.encoder.predict(X_test)).astype(np.uint32)\n",
    "        hashes = hashes * np.array([[2**bit for bit in range(self.latent_shape)]])\n",
    "        hashes = hashes.sum(axis=1)\n",
    "        \n",
    "        strs = []\n",
    "        for ind in range(len(X_test)):\n",
    "            \n",
    "            strs.append( '{:032b}'.format(hashes[ind]) )\n",
    "        \n",
    "        return strs\n",
    "    "
   ]
  },
  {
   "cell_type": "code",
   "execution_count": 143,
   "metadata": {},
   "outputs": [],
   "source": [
    "def plot_image(image):\n",
    "    plt.imshow(image, cmap=\"binary\")\n",
    "    plt.axis(\"off\")"
   ]
  },
  {
   "cell_type": "code",
   "execution_count": 144,
   "metadata": {},
   "outputs": [],
   "source": [
    "model = Hashing()"
   ]
  },
  {
   "cell_type": "code",
   "execution_count": 145,
   "metadata": {},
   "outputs": [
    {
     "name": "stdout",
     "output_type": "stream",
     "text": [
      "Train on 55000 samples, validate on 10000 samples\n",
      "Epoch 1/3\n",
      "55000/55000 [==============================] - 5s 86us/sample - loss: 0.2732 - accuracy: 0.7968 - val_loss: 0.2434 - val_accuracy: 0.7964\n",
      "Epoch 2/3\n",
      "55000/55000 [==============================] - 4s 71us/sample - loss: 0.2290 - accuracy: 0.7953 - val_loss: 0.2078 - val_accuracy: 0.7946\n",
      "Epoch 3/3\n",
      "55000/55000 [==============================] - 4s 75us/sample - loss: 0.1938 - accuracy: 0.7976 - val_loss: 0.1799 - val_accuracy: 0.8002\n"
     ]
    }
   ],
   "source": [
    "model.train(X_train, X_test, batch_size=128, epochs=3)"
   ]
  },
  {
   "cell_type": "code",
   "execution_count": 146,
   "metadata": {},
   "outputs": [
    {
     "data": {
      "image/png": "[encoded data removed]",
      "text/plain": [
       "<Figure size 1080x432 with 2 Axes>"
      ]
     },
     "metadata": {
      "needs_background": "light"
     },
     "output_type": "display_data"
    }
   ],
   "source": [
    "# model.plot()"
   ]
  },
  {
   "cell_type": "code",
   "execution_count": 147,
   "metadata": {},
   "outputs": [],
   "source": [
    "# model.show_reconstructions()"
   ]
  },
  {
   "cell_type": "code",
   "execution_count": 132,
   "metadata": {},
   "outputs": [
    {
     "name": "stdout",
     "output_type": "stream",
     "text": [
      "01110111001101011000100111001101\n",
      "01011100011000111010110011111000\n",
      "11111110011001111010110011111101\n",
      "01010111001111111111111111101010\n",
      "01010111101110011000111011011110\n",
      "11111110111001111010110011011001\n",
      "01111111001110011000101111011100\n",
      "01011100101110011000111011011110\n",
      "01010110101011011001101011001010\n",
      "01110111101011011000101111001101\n"
     ]
    }
   ],
   "source": [
    "for i in hashes[:10]:\n",
    "    print('{:032b}'.format(i))"
   ]
  },
  {
   "cell_type": "code",
   "execution_count": 69,
   "metadata": {},
   "outputs": [
    {
     "name": "stdout",
     "output_type": "stream",
     "text": [
      "1010111101110011000111011011110\n"
     ]
    },
    {
     "data": {
      "image/png": "[encoded data removed]",
      "text/plain": [
       "<Figure size 432x288 with 1 Axes>"
      ]
     },
     "metadata": {
      "needs_background": "light"
     },
     "output_type": "display_data"
    }
   ],
   "source": [
    "plot_image(X_test[4])\n",
    "print('{:b}'.format(hashes[4]))"
   ]
  },
  {
   "cell_type": "code",
   "execution_count": 70,
   "metadata": {},
   "outputs": [
    {
     "name": "stdout",
     "output_type": "stream",
     "text": [
      "1111111001110011000101111011100\n"
     ]
    },
    {
     "data": {
      "image/png": "[encoded data removed]",
      "text/plain": [
       "<Figure size 432x288 with 1 Axes>"
      ]
     },
     "metadata": {
      "needs_background": "light"
     },
     "output_type": "display_data"
    }
   ],
   "source": [
    "plot_image(X_test[6])\n",
    "print('{:b}'.format(hashes[6]))"
   ]
  },
  {
   "cell_type": "code",
   "execution_count": 98,
   "metadata": {},
   "outputs": [],
   "source": [
    "def hamming_distance(str1, str2):\n",
    "    return sum(c1 != c2 for c1, c2 in zip(str1, str2))"
   ]
  },
  {
   "cell_type": "code",
   "execution_count": 167,
   "metadata": {},
   "outputs": [
    {
     "data": {
      "text/plain": [
       "6"
      ]
     },
     "execution_count": 167,
     "metadata": {},
     "output_type": "execute_result"
    }
   ],
   "source": [
    "hamming_distance('{:b}'.format(hashes[4]), '{:b}'.format(hashes[6]))"
   ]
  },
  {
   "cell_type": "code",
   "execution_count": 148,
   "metadata": {},
   "outputs": [],
   "source": [
    "h = model.get_hashes()"
   ]
  },
  {
   "cell_type": "code",
   "execution_count": 168,
   "metadata": {},
   "outputs": [
    {
     "data": {
      "text/plain": [
       "7"
      ]
     },
     "execution_count": 168,
     "metadata": {},
     "output_type": "execute_result"
    }
   ],
   "source": [
    "hamming_distance(h[4], h[6])"
   ]
  },
  {
   "cell_type": "code",
   "execution_count": 169,
   "metadata": {},
   "outputs": [
    {
     "name": "stdout",
     "output_type": "stream",
     "text": [
      "index \t hash                                 target digit\n",
      "0 \t 00111111101100111111110101011010 \t 7\n",
      "1 \t 11011111111011011011100101111111 \t 2\n",
      "2 \t 01111111111110111011100111110111 \t 1\n",
      "3 \t 10111111111011010111111101011111 \t 0\n",
      "4 \t 10111111111101011111111101110010 \t 4\n",
      "5 \t 01111111111010111011110111110011 \t 1\n",
      "6 \t 01111111101100011111110101011010 \t 4\n",
      "7 \t 11011111101101011111100101110010 \t 9\n",
      "8 \t 00111111101000011111101101110010 \t 5\n",
      "9 \t 00111111101100110111111101010010 \t 9\n",
      "10 \t 00111111101001011011111101011111 \t 0\n",
      "11 \t 10111111111001011011100101110111 \t 6\n",
      "12 \t 11111111101100111111110101011010 \t 9\n",
      "13 \t 10111111101001011011111101011111 \t 0\n",
      "14 \t 11011111111111110011100111111110 \t 1\n"
     ]
    }
   ],
   "source": [
    "print('index \\t hash ' + (model.latent_shape*' ') + 'target digit')\n",
    "for i in range(15):\n",
    "    print(i, '\\t', h[i], '\\t', y_test.tolist()[i])"
   ]
  },
  {
   "cell_type": "code",
   "execution_count": 172,
   "metadata": {},
   "outputs": [],
   "source": [
    "cntr_7 = 0\n",
    "hashes_for_7 = []\n",
    "for i in range(100):\n",
    "    if y_test.tolist()[i] == 7:\n",
    "        hashes_for_7.append(h[i])"
   ]
  },
  {
   "cell_type": "code",
   "execution_count": 175,
   "metadata": {},
   "outputs": [
    {
     "data": {
      "text/plain": [
       "['00111111101100111111110101011010',\n",
       " '00111111101100011011110101011010',\n",
       " '10011111101100011011110101111010',\n",
       " '00111111101000111111111101010010',\n",
       " '00111111101100011011110101011010',\n",
       " '00111111101100011111110111011010',\n",
       " '10011111101100011011100101011110',\n",
       " '00111111101000111111110101010010',\n",
       " '00111111101100010011110101011110',\n",
       " '11011111101100011111100111011010',\n",
       " '00111111101000110111110101010010',\n",
       " '11011111101101011111100101111110',\n",
       " '10011111101100011111110101111010',\n",
       " '01111111101100111111110111010010',\n",
       " '01011111101100011011100111011010']"
      ]
     },
     "execution_count": 175,
     "metadata": {},
     "output_type": "execute_result"
    }
   ],
   "source": [
    "hashes_for_7"
   ]
  },
  {
   "cell_type": "code",
   "execution_count": null,
   "metadata": {},
   "outputs": [],
   "source": []
  }
 ],
 "metadata": {
  "kernelspec": {
   "display_name": "Python 3",
   "language": "python",
   "name": "python3"
  },
  "language_info": {
   "codemirror_mode": {
    "name": "ipython",
    "version": 3
   },
   "file_extension": ".py",
   "mimetype": "text/x-python",
   "name": "python",
   "nbconvert_exporter": "python",
   "pygments_lexer": "ipython3",
   "version": "3.7.3"
  }
 },
 "nbformat": 4,
 "nbformat_minor": 4
}
