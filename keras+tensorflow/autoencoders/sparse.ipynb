{
 "cells": [
  {
   "cell_type": "code",
   "execution_count": 92,
   "metadata": {},
   "outputs": [],
   "source": [
    "# ****************************** SPARSE AUTOENCODER *********************************** #"
   ]
  },
  {
   "cell_type": "code",
   "execution_count": 29,
   "metadata": {},
   "outputs": [],
   "source": [
    "import tensorflow as tf\n",
    "import numpy as np\n",
    "import matplotlib.pyplot as plt\n",
    "from tensorflow import keras as K\n",
    "from random import randrange"
   ]
  },
  {
   "cell_type": "code",
   "execution_count": 19,
   "metadata": {},
   "outputs": [],
   "source": [
    "# load data set\n",
    "(X_train_full, y_train_full), (X_test, y_test) = K.datasets.mnist.load_data()\n",
    "X_train_full = X_train_full.astype(np.float32) / 255\n",
    "X_test = X_test.astype(np.float32) / 255\n",
    "X_train, X_valid = X_train_full[:-5000], X_train_full[-5000:]\n",
    "y_train, y_valid = y_train_full[:-5000], y_train_full[-5000:]"
   ]
  },
  {
   "cell_type": "code",
   "execution_count": 20,
   "metadata": {},
   "outputs": [],
   "source": [
    "# Kullback-Leibler divergence\n",
    "kl_divergence = K.losses.kullback_leibler_divergence\n",
    "\n",
    "class KLDivergenceRegularizer(K.regularizers.Regularizer):\n",
    "    def __init__(self, weight, target=0.1):\n",
    "        self.weight = weight\n",
    "        self.target = target\n",
    "    def __call__(self, inputs):\n",
    "        mean_activities = K.backend.mean(inputs, axis=0)\n",
    "        return self.weight * (\n",
    "            kl_divergence(self.target, mean_activities) +\n",
    "            kl_divergence(1. - self.target, 1. - mean_activities))"
   ]
  },
  {
   "cell_type": "code",
   "execution_count": 21,
   "metadata": {},
   "outputs": [],
   "source": [
    "# Sparse autoencoder for 1*28*28 dataset\n",
    "class Sparse(object):\n",
    "    def __init__(self, weight, target, input_dim=[28, 28], coding_dim=300):\n",
    "\n",
    "        # checking args \n",
    "        assert isinstance(input_dim, list), \"input dim must be a list\"\n",
    "        assert target >= 0\n",
    "        assert weight >= 0\n",
    "        \n",
    "        self.weight = weight\n",
    "        self.target = target\n",
    "        \n",
    "        self.KL = KLDivergenceRegularizer(weight=self.weight, target=self.target)\n",
    "        \n",
    "        self.encoder = K.models.Sequential([\n",
    "            K.layers.Flatten(input_shape=input_dim),\n",
    "            \n",
    "            K.layers.Dense(units=100, activation='elu'),\n",
    "            \n",
    "            K.layers.Dense(units=coding_dim, activation='sigmoid', \n",
    "                           activity_regularizer=self.KL)\n",
    "        ])\n",
    "        \n",
    "        self.decoder = K.models.Sequential([\n",
    "            K.layers.Dense(units=100, activation='elu', \n",
    "                           input_shape=[coding_dim]),\n",
    "            \n",
    "            K.layers.Dense(units=np.prod(np.array(input_dim)), \n",
    "                           activation='sigmoid'),\n",
    "            \n",
    "            K.layers.Reshape(input_dim)\n",
    "        ])\n",
    "        \n",
    "        self.model = K.models.Sequential([self.encoder, self.decoder])\n",
    "        \n",
    "    def train(self, X_train, X_test, epochs=10, batch_size=32,\n",
    "              loss='binary_crossentropy', optimizer='adam', verbose=2):\n",
    "        \n",
    "        self.model.compile(loss=loss, \n",
    "                           optimizer=optimizer, metrics=['accuracy'])\n",
    "        \n",
    "        self.history = self.model.fit(X_train, X_train, \n",
    "                                      epochs=epochs, \n",
    "                                      batch_size=batch_size,\n",
    "              validation_data=(X_test, X_test), verbose=verbose)\n",
    "        \n",
    "    # plot Accuracy & Loss graphics\n",
    "    def plot(self):\n",
    "        fig = plt.figure(figsize=(15, 6))\n",
    "\n",
    "        \n",
    "        ax1 = fig.add_subplot(1, 2, 1)\n",
    "        ax1.set_title(\"Accuracy\")\n",
    "        ax1.set_xlabel(\"Number of epochs\")\n",
    "        ax1.plot(self.history.history['accuracy'], color='blue')\n",
    "        ax1.grid(True)\n",
    "        \n",
    "        ax2 = fig.add_subplot(1, 2, 2)\n",
    "        ax2.set_title(\"Loss\")\n",
    "        ax2.set_xlabel(\"Number of epochs\")\n",
    "        ax2.plot(self.history.history['loss'], color='red')\n",
    "        ax2.grid(True)\n",
    "        \n",
    "        plt.show()\n",
    "        \n",
    "    def show_reconstructions(self, images=X_valid, n_images=5):\n",
    "        \n",
    "        reconstructions = self.model.predict(images[:randrange(10)])\n",
    "        fig = plt.figure(figsize=(n_images * 1.5, 3))\n",
    "        \n",
    "        for image_index in range(n_images):\n",
    "            plt.subplot(2, n_images, 1 + image_index)\n",
    "            plot_image(images[image_index])\n",
    "            plt.subplot(2, n_images, 1 + n_images + image_index)\n",
    "            plot_image(reconstructions[image_index])  \n",
    "\n",
    "        "
   ]
  },
  {
   "cell_type": "code",
   "execution_count": 22,
   "metadata": {},
   "outputs": [],
   "source": [
    "def plot_image(image):\n",
    "    plt.imshow(image, cmap=\"binary\")\n",
    "    plt.axis(\"off\")"
   ]
  },
  {
   "cell_type": "code",
   "execution_count": 23,
   "metadata": {},
   "outputs": [],
   "source": [
    "sparse_model = Sparse(weight=0.5, target=0.1)"
   ]
  },
  {
   "cell_type": "code",
   "execution_count": 24,
   "metadata": {},
   "outputs": [
    {
     "name": "stdout",
     "output_type": "stream",
     "text": [
      "Train on 55000 samples, validate on 10000 samples\n",
      "Epoch 1/5\n",
      "55000/55000 - 11s - loss: 0.2339 - accuracy: 0.7973 - val_loss: 0.1875 - val_accuracy: 0.7987\n",
      "Epoch 2/5\n",
      "55000/55000 - 10s - loss: 0.1557 - accuracy: 0.8055 - val_loss: 0.1430 - val_accuracy: 0.8079\n",
      "Epoch 3/5\n",
      "55000/55000 - 8s - loss: 0.1267 - accuracy: 0.8103 - val_loss: 0.1228 - val_accuracy: 0.8106\n",
      "Epoch 4/5\n",
      "55000/55000 - 8s - loss: 0.1128 - accuracy: 0.8122 - val_loss: 0.1117 - val_accuracy: 0.8120\n",
      "Epoch 5/5\n",
      "55000/55000 - 9s - loss: 0.1044 - accuracy: 0.8132 - val_loss: 0.1045 - val_accuracy: 0.8126\n"
     ]
    }
   ],
   "source": [
    "sparse_model.train(X_train, X_test, epochs=5)"
   ]
  },
  {
   "cell_type": "code",
   "execution_count": 25,
   "metadata": {},
   "outputs": [
    {
     "data": {
      "image/png": "[encoded data removed]",
      "text/plain": [
       "<Figure size 1080x432 with 2 Axes>"
      ]
     },
     "metadata": {
      "needs_background": "light"
     },
     "output_type": "display_data"
    }
   ],
   "source": [
    "sparse_model.plot()"
   ]
  },
  {
   "cell_type": "code",
   "execution_count": 27,
   "metadata": {},
   "outputs": [
    {
     "data": {
      "image/png": "[encoded data removed]",
      "text/plain": [
       "<Figure size 540x216 with 10 Axes>"
      ]
     },
     "metadata": {
      "needs_background": "light"
     },
     "output_type": "display_data"
    }
   ],
   "source": [
    "# show reconstructions\n",
    "sparse_model.show_reconstructions()"
   ]
  },
  {
   "cell_type": "code",
   "execution_count": null,
   "metadata": {},
   "outputs": [],
   "source": []
  }
 ],
 "metadata": {
  "kernelspec": {
   "display_name": "Python 3",
   "language": "python",
   "name": "python3"
  },
  "language_info": {
   "codemirror_mode": {
    "name": "ipython",
    "version": 3
   },
   "file_extension": ".py",
   "mimetype": "text/x-python",
   "name": "python",
   "nbconvert_exporter": "python",
   "pygments_lexer": "ipython3",
   "version": "3.7.3"
  }
 },
 "nbformat": 4,
 "nbformat_minor": 4
}
