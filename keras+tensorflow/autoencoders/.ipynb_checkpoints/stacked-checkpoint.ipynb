{
 "cells": [
  {
   "cell_type": "code",
   "execution_count": 181,
   "metadata": {},
   "outputs": [],
   "source": [
    "import tensorflow as tf\n",
    "import numpy as np\n",
    "import matplotlib.pyplot as plt\n",
    "from tensorflow import keras as K\n",
    "import os, datetime\n",
    "from keras.callbacks import TensorBoard"
   ]
  },
  {
   "cell_type": "code",
   "execution_count": 182,
   "metadata": {},
   "outputs": [],
   "source": [
    "# load data set\n",
    "(X_train_full, y_train_full), (X_test, y_test) = keras.datasets.fashion_mnist.load_data()\n",
    "X_train_full = X_train_full.astype(np.float32) / 255\n",
    "X_test = X_test.astype(np.float32) / 255\n",
    "X_train, X_valid = X_train_full[:-5000], X_train_full[-5000:]\n",
    "y_train, y_valid = y_train_full[:-5000], y_train_full[-5000:]"
   ]
  },
  {
   "cell_type": "code",
   "execution_count": 36,
   "metadata": {},
   "outputs": [],
   "source": [
    "# Reshaping (no need)\n",
    "X_train = X_train.reshape((len(X_train), np.prod(X_train.shape[1:])))\n",
    "X_test = X_test.reshape((len(X_test), np.prod(X_test.shape[1:])))"
   ]
  },
  {
   "cell_type": "code",
   "execution_count": 292,
   "metadata": {},
   "outputs": [],
   "source": [
    "def plot_image(image):\n",
    "        plt.imshow(image, cmap=\"binary\")\n",
    "        plt.axis(\"off\")"
   ]
  },
  {
   "cell_type": "code",
   "execution_count": 293,
   "metadata": {},
   "outputs": [],
   "source": [
    "# Define class\n",
    "\n",
    "class StackedAE:\n",
    "    def __init__(self, X_train, X_test, latent_space=30):\n",
    "        \n",
    "        self.X_train = X_train\n",
    "        self.X_test = X_test\n",
    "        \n",
    "        self.encoder = K.models.Sequential([\n",
    "            K.layers.Flatten(input_shape=[28, 28]),\n",
    "            K.layers.Dense(units=100, activation='elu'),\n",
    "            K.layers.Dense(units=latent_space, activation='elu'),\n",
    "        ])\n",
    "        \n",
    "        self.decoder = K.models.Sequential([\n",
    "            K.layers.Dense(units=100, activation='elu', input_shape=(30,)),\n",
    "            K.layers.Dense(units=784, activation='sigmoid'),\n",
    "            K.layers.Reshape([28, 28])\n",
    "        ])\n",
    "        \n",
    "        self.ae = K.models.Sequential([self.encoder, self.decoder])\n",
    "        \n",
    "    def train(self, optimizer='adadelta', loss_fn='binary_crossentropy', \n",
    "              batch_size=1, epochs=10):\n",
    "        self.ae.compile(optimizer=optimizer, \n",
    "                    loss=loss_fn,\n",
    "                    metrics=['accuracy'])\n",
    "        self.history = self.ae.fit(self.X_train, self.X_train, \n",
    "                epochs=epochs, \n",
    "                batch_size=batch_size, \n",
    "                shuffle=True, \n",
    "                validation_data=(self.X_test, self.X_test))\n",
    "    \n",
    "        \n",
    "    def show_reconstructions(self, images=X_valid, n_images=5):\n",
    "        reconstructions = self.ae.predict(images[:n_images])\n",
    "        \n",
    "        fig = plt.figure(figsize=(n_images * 1.5, 3))\n",
    "        \n",
    "        for image_index in range(n_images):\n",
    "            plt.subplot(2, n_images, 1 + image_index)\n",
    "            plot_image(images[image_index])\n",
    "            plt.subplot(2, n_images, 1 + n_images + image_index)\n",
    "            plot_image(reconstructions[image_index])\n",
    "        \n",
    "\n",
    "    # plot loss and accuracy graphs\n",
    "    # but it doesn't work ??\n",
    "    def plot(self):\n",
    "        fig = plt.figure(figsize=(15, 6))\n",
    "\n",
    "        \n",
    "        ax1 = fig.add_subplot(1, 2, 1)\n",
    "        ax1.set_title(\"Accuracy\")\n",
    "        ax1.set_xlabel(\"Number of epochs\")\n",
    "        ax1.plot(self.history.history['accuracy'], color='blue')\n",
    "        \n",
    "        ax2 = fig.add_subplot(1, 2, 2)\n",
    "        ax2.set_title(\"Loss\")\n",
    "        ax2.set_xlabel(\"Number of epochs\")\n",
    "        ax2.plot(self.history.history['loss'], color='red')\n",
    "        \n",
    "        \n",
    "\n",
    "        plt.grid(True)\n",
    "        plt.show()\n",
    "        "
   ]
  },
  {
   "cell_type": "code",
   "execution_count": 294,
   "metadata": {},
   "outputs": [],
   "source": [
    "# Visualizing in TensorBoard\n",
    "\n",
    "# logdir = os.path.join(\"logs\", datetime.datetime.now().strftime(\"%Y%m%d-%H%M%S\"))\n",
    "# tensorboard_callback = TensorBoard(logdir, histogram_freq=1)"
   ]
  },
  {
   "cell_type": "code",
   "execution_count": 295,
   "metadata": {},
   "outputs": [
    {
     "data": {
      "image/png": "[encoded data removed]",
      "text/plain": [
       "<Figure size 1080x432 with 2 Axes>"
      ]
     },
     "metadata": {
      "needs_background": "light"
     },
     "output_type": "display_data"
    }
   ],
   "source": [
    "fig = plt.figure(figsize=(15, 6))\n",
    "\n",
    "ax1 = fig.add_subplot(1, 2, 1)\n",
    "ax1.set_title(\"dsa\")\n",
    "ax1.plot(autoencoder.history.history['loss'], color='red')\n",
    "\n",
    "\n",
    "ax2 = fig.add_subplot(1, 2, 2)\n",
    "ax2.plot(autoencoder.history.history['loss'], color='red')\n",
    "\n",
    "plt.show()"
   ]
  },
  {
   "cell_type": "code",
   "execution_count": 296,
   "metadata": {},
   "outputs": [],
   "source": [
    "model = StackedAE(X_train, X_test)"
   ]
  },
  {
   "cell_type": "code",
   "execution_count": 297,
   "metadata": {
    "scrolled": true
   },
   "outputs": [
    {
     "name": "stdout",
     "output_type": "stream",
     "text": [
      "Train on 55000 samples, validate on 10000 samples\n",
      "Epoch 1/5\n",
      "55000/55000 [==============================] - 4s 70us/sample - loss: 0.6981 - accuracy: 0.2570 - val_loss: 0.6979 - val_accuracy: 0.2563\n",
      "Epoch 2/5\n",
      "55000/55000 [==============================] - 4s 65us/sample - loss: 0.6977 - accuracy: 0.2578 - val_loss: 0.6976 - val_accuracy: 0.2571\n",
      "Epoch 3/5\n",
      "55000/55000 [==============================] - 4s 69us/sample - loss: 0.6974 - accuracy: 0.2587 - val_loss: 0.6973 - val_accuracy: 0.2580\n",
      "Epoch 4/5\n",
      "55000/55000 [==============================] - 3s 58us/sample - loss: 0.6971 - accuracy: 0.2595 - val_loss: 0.6970 - val_accuracy: 0.2588\n",
      "Epoch 5/5\n",
      "55000/55000 [==============================] - 4s 65us/sample - loss: 0.6968 - accuracy: 0.2603 - val_loss: 0.6967 - val_accuracy: 0.2596\n"
     ]
    }
   ],
   "source": [
    "model.train(batch_size=512, epochs=5)"
   ]
  },
  {
   "cell_type": "code",
   "execution_count": 298,
   "metadata": {},
   "outputs": [
    {
     "data": {
      "image/png": "[encoded data removed]",
      "text/plain": [
       "<Figure size 540x216 with 10 Axes>"
      ]
     },
     "metadata": {
      "needs_background": "light"
     },
     "output_type": "display_data"
    }
   ],
   "source": [
    "model.show_reconstructions()"
   ]
  },
  {
   "cell_type": "code",
   "execution_count": 271,
   "metadata": {},
   "outputs": [],
   "source": [
    "encoder = K.models.Sequential([\n",
    "            K.layers.Flatten(input_shape=[28, 28]),\n",
    "            K.layers.Dense(units=100, activation='elu'),\n",
    "            K.layers.Dense(units=30, activation='elu'),\n",
    "        ])\n",
    "        \n",
    "decoder = K.models.Sequential([\n",
    "            K.layers.Dense(units=100, activation='elu', input_shape=(30,)),\n",
    "            K.layers.Dense(units=784, activation='sigmoid'),\n",
    "            K.layers.Reshape([28, 28])\n",
    "        ])\n",
    "        \n",
    "ae = K.models.Sequential([encoder, decoder])"
   ]
  },
  {
   "cell_type": "code",
   "execution_count": 272,
   "metadata": {},
   "outputs": [
    {
     "name": "stdout",
     "output_type": "stream",
     "text": [
      "Train on 55000 samples, validate on 10000 samples\n",
      "Epoch 1/5\n",
      "55000/55000 [==============================] - 12s 213us/sample - loss: 0.3086 - val_loss: 0.2919\n",
      "Epoch 2/5\n",
      "55000/55000 [==============================] - 10s 187us/sample - loss: 0.2864 - val_loss: 0.2863\n",
      "Epoch 3/5\n",
      "55000/55000 [==============================] - 9s 165us/sample - loss: 0.2827 - val_loss: 0.2840\n",
      "Epoch 4/5\n",
      "55000/55000 [==============================] - 10s 178us/sample - loss: 0.2806 - val_loss: 0.2824\n",
      "Epoch 5/5\n",
      "55000/55000 [==============================] - 9s 169us/sample - loss: 0.2793 - val_loss: 0.2811\n"
     ]
    }
   ],
   "source": [
    "ae.compile(optimizer='adam', \n",
    "                    loss='binary_crossentropy')\n",
    "h = ae.fit(X_train, X_train, \n",
    "                epochs=5, \n",
    "                batch_size=32, \n",
    "                shuffle=True, \n",
    "                validation_data=(X_test, X_test))"
   ]
  },
  {
   "cell_type": "code",
   "execution_count": 273,
   "metadata": {},
   "outputs": [
    {
     "data": {
      "text/plain": [
       "[<matplotlib.lines.Line2D at 0x147020c88>]"
      ]
     },
     "execution_count": 273,
     "metadata": {},
     "output_type": "execute_result"
    },
    {
     "data": {
      "image/png": "[encoded data removed]",
      "text/plain": [
       "<Figure size 432x288 with 1 Axes>"
      ]
     },
     "metadata": {
      "needs_background": "light"
     },
     "output_type": "display_data"
    }
   ],
   "source": [
    "plt.plot(ae.history.history['loss'])"
   ]
  },
  {
   "cell_type": "code",
   "execution_count": 274,
   "metadata": {},
   "outputs": [
    {
     "data": {
      "text/plain": [
       "{'loss': [0.30861052490581165,\n",
       "  0.2863956618395719,\n",
       "  0.28266373725370925,\n",
       "  0.2806357838674025,\n",
       "  0.27929987462650646],\n",
       " 'val_loss': [0.2919188133239746,\n",
       "  0.28626498990058896,\n",
       "  0.2840310963630676,\n",
       "  0.28236251993179323,\n",
       "  0.2810612660884857]}"
      ]
     },
     "execution_count": 274,
     "metadata": {},
     "output_type": "execute_result"
    }
   ],
   "source": [
    "ae.history.history"
   ]
  },
  {
   "cell_type": "code",
   "execution_count": null,
   "metadata": {},
   "outputs": [],
   "source": []
  }
 ],
 "metadata": {
  "kernelspec": {
   "display_name": "Python 3",
   "language": "python",
   "name": "python3"
  },
  "language_info": {
   "codemirror_mode": {
    "name": "ipython",
    "version": 3
   },
   "file_extension": ".py",
   "mimetype": "text/x-python",
   "name": "python",
   "nbconvert_exporter": "python",
   "pygments_lexer": "ipython3",
   "version": "3.7.3"
  }
 },
 "nbformat": 4,
 "nbformat_minor": 4
}
