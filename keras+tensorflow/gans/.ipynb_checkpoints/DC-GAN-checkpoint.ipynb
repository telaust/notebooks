{
 "cells": [
  {
   "cell_type": "code",
   "execution_count": 1,
   "metadata": {},
   "outputs": [],
   "source": [
    "import tensorflow as tf\n",
    "from tensorflow import keras\n",
    "import numpy as np\n",
    "import matplotlib.pyplot as plt"
   ]
  },
  {
   "cell_type": "code",
   "execution_count": 2,
   "metadata": {},
   "outputs": [],
   "source": [
    "# LOAD DATA\n",
    "(X_train, y_train), (X_test, y_test) = keras.datasets.mnist.load_data()\n",
    "\n",
    "X_train = X_train.astype(np.float32) / 255.0\n",
    "X_test = X_test.astype(np.float32) / 255.0\n",
    "\n",
    "y_train = keras.utils.to_categorical(y_train.astype(np.int32), 10 )\n",
    "y_test = keras.utils.to_categorical(y_test.astype(np.int32) , 10)"
   ]
  },
  {
   "cell_type": "code",
   "execution_count": 3,
   "metadata": {},
   "outputs": [],
   "source": [
    "def train(gan, dataset, n_epochs=5, batch_size=32, codings_size=30):\n",
    "    generator, discriminator = gan.layers\n",
    "    \n",
    "    for ep in range(n_epochs):\n",
    "        \n",
    "        print(\"epoch #{} / {}\".format(ep+1, n_epochs))\n",
    "    \n",
    "        for X_batch in dataset:\n",
    "            # train Discriminator\n",
    "            discriminator.trainable = True\n",
    "            generator.trainable = False\n",
    "            # генерируем нормальный шум размерности (batch size, codings size)\n",
    "            noise = tf.random.normal(shape=[batch_size, codings_size])\n",
    "            # получаем сгенерированные \"картинки\", представляющие собой просто шум\n",
    "            generated = generator(noise)\n",
    "            # чтобы помочь генератору научиться воссоздавать нужные нам объекты,\n",
    "            # конкатенируем шумовое изображение и реальное\n",
    "            X_fake_and_real = tf.concat([generated, X_batch], axis=0)\n",
    "            # ?\n",
    "            y1 = tf.constant([[0.]] * batch_size + [[1.]] * batch_size)\n",
    "            # обучаем дискриминатор именно на этом пакете объектов (batch)\n",
    "            discriminator.train_on_batch(X_fake_and_real, y1)\n",
    "            \n",
    "            # train Generator\n",
    "            generator.trainable = True\n",
    "            discriminator.trainable = False\n",
    "            noise = tf.random.normal(shape=[batch_size, codings_size])\n",
    "            y2 = tf.constant([[1.]] * batch_size)\n",
    "\n",
    "            gan.train_on_batch(noise, y2)\n",
    "            \n",
    "        plot_multiple_images(generated, 6)\n",
    "        plt.show()\n"
   ]
  },
  {
   "cell_type": "code",
   "execution_count": 5,
   "metadata": {},
   "outputs": [
    {
     "name": "stdout",
     "output_type": "stream",
     "text": [
      "CPU times: user 6 µs, sys: 2 µs, total: 8 µs\n",
      "Wall time: 14.1 µs\n"
     ]
    }
   ],
   "source": [
    "%%time\n",
    "# Определим гиперпараметры заранее\n",
    "codings_size = 100\n",
    "n_epochs = 10\n",
    "batch_size = 32\n"
   ]
  },
  {
   "cell_type": "code",
   "execution_count": 6,
   "metadata": {},
   "outputs": [],
   "source": [
    "# Определим сверточный генератор\n",
    "dcG = keras.models.Sequential([\n",
    "    keras.layers.Dense(7*7*128, input_shape=[codings_size]),\n",
    "    keras.layers.Reshape([7, 7, 128]),\n",
    "    keras.layers.BatchNormalization(),\n",
    "    keras.layers.Conv2DTranspose(64, \n",
    "                                 kernel_size=5, \n",
    "                                 strides=2, \n",
    "                                 padding='SAME',\n",
    "                                 activation='elu'),\n",
    "    keras.layers.BatchNormalization(),\n",
    "    keras.layers.Conv2DTranspose(1, \n",
    "                                 kernel_size=5, \n",
    "                                 strides=2, \n",
    "                                 padding='SAME', \n",
    "                                 activation='tanh')\n",
    "])"
   ]
  },
  {
   "cell_type": "code",
   "execution_count": 7,
   "metadata": {},
   "outputs": [
    {
     "data": {
      "text/plain": [
       "10"
      ]
     },
     "execution_count": 7,
     "metadata": {},
     "output_type": "execute_result"
    }
   ],
   "source": [
    "n_epochs"
   ]
  },
  {
   "cell_type": "code",
   "execution_count": null,
   "metadata": {},
   "outputs": [],
   "source": []
  }
 ],
 "metadata": {
  "kernelspec": {
   "display_name": "Python 3",
   "language": "python",
   "name": "python3"
  },
  "language_info": {
   "codemirror_mode": {
    "name": "ipython",
    "version": 3
   },
   "file_extension": ".py",
   "mimetype": "text/x-python",
   "name": "python",
   "nbconvert_exporter": "python",
   "pygments_lexer": "ipython3",
   "version": "3.7.3"
  }
 },
 "nbformat": 4,
 "nbformat_minor": 4
}
