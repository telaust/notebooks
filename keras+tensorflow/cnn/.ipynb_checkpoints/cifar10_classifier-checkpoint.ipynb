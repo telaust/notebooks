{
 "cells": [
  {
   "cell_type": "code",
   "execution_count": 1,
   "metadata": {},
   "outputs": [],
   "source": [
    "import tensorflow as tf\n",
    "import numpy as np\n",
    "from tensorflow import keras\n",
    "import matplotlib.pyplot as plt"
   ]
  },
  {
   "cell_type": "code",
   "execution_count": 141,
   "metadata": {},
   "outputs": [],
   "source": [
    "# load data\n",
    "(X_train, y_train), (X_test, y_test) = keras.datasets.cifar10.load_data()"
   ]
  },
  {
   "cell_type": "code",
   "execution_count": 142,
   "metadata": {},
   "outputs": [],
   "source": [
    "X_train = X_train.astype(np.float32) / 255.0\n",
    "X_test = X_test.astype(np.float32) / 255.0\n",
    "\n",
    "y_train = keras.utils.to_categorical(y_train.astype(np.int32), 10 )\n",
    "y_test = keras.utils.to_categorical(y_test.astype(np.int32) , 10)"
   ]
  },
  {
   "cell_type": "code",
   "execution_count": 95,
   "metadata": {},
   "outputs": [
    {
     "data": {
      "image/png": "[encoded data removed]",
      "text/plain": [
       "<Figure size 432x288 with 1 Axes>"
      ]
     },
     "metadata": {
      "needs_background": "light"
     },
     "output_type": "display_data"
    }
   ],
   "source": [
    "classes = ['plane', 'auto', 'bird', 'cat', 'deer', \n",
    "           'dog', 'frog', 'horse', 'ship', 'truck']\n",
    "\n",
    "# show some image from dataset\n",
    "plt.imshow(X_train[5].reshape(32, 32, 3))\n",
    "plt.title(classes[ y_train[5][0] ] + '\\n')\n",
    "plt.show()"
   ]
  },
  {
   "cell_type": "code",
   "execution_count": null,
   "metadata": {},
   "outputs": [],
   "source": []
  },
  {
   "cell_type": "code",
   "execution_count": 183,
   "metadata": {},
   "outputs": [],
   "source": [
    "# Creating keras class\n",
    "class CNN_cifar10(tf.keras.Model):\n",
    "    def __init__(self):\n",
    "        super(CNN_cifar10, self).__init__()\n",
    "        \n",
    "        self.conv1 = Conv2D(filters=32,\n",
    "                            kernel_size=3,activation='relu', padding='same')\n",
    "        self.conv2 = Conv2D(filters=32, \n",
    "                            kernel_size=3, activation='relu')\n",
    "        self.maxpool1 = MaxPooling2D(pool_size=2)\n",
    "        \n",
    "        self.dropout = Dropout(rate=0.25)\n",
    "        \n",
    "        self.conv3 = Conv2D(filters=64,\n",
    "                            kernel_size=3, activation='relu', padding='same')\n",
    "        self.conv4 = Conv2D(filters=64,\n",
    "                            kernel_size=3, activation='relu')\n",
    "        self.flatten = Flatten()\n",
    "        self.dense1 = Dense(512, activation='relu')\n",
    "        self.dense2 = Dense(10, activation='softmax')\n",
    "        \n",
    "    def call(self, inputs):\n",
    "        x = self.maxpool1( self.conv2( self.conv1(inputs) ))\n",
    "        x = self.drop(x)\n",
    "        \n",
    "        x = self.maxpool1(self.conv4(self.conv3(x)))\n",
    "        x = self.dropout(x)\n",
    "        \n",
    "        x = self.flatten(x)\n",
    "        x = self.dense1(x)\n",
    "        x = self.dropout(x)\n",
    "        out = self.dense2(x)\n",
    "        \n",
    "        return out\n"
   ]
  },
  {
   "cell_type": "code",
   "execution_count": 144,
   "metadata": {},
   "outputs": [],
   "source": [
    "# just throug placeholders\n",
    "inputs = keras.layers.Input(shape=(32, 32, 3))\n",
    "x = keras.layers.Conv2D(filters=32, \n",
    "                        kernel_size=3, activation='relu', padding='same')(inputs)\n",
    "x = keras.layers.Conv2D(filters=32, \n",
    "                        kernel_size=3, activation='relu')(x)\n",
    "x = keras.layers.MaxPooling2D(pool_size=2)(x)\n",
    "x = keras.layers.Dropout(rate=0.25)(x)\n",
    "\n",
    "x = keras.layers.Conv2D(filters=64, \n",
    "                        kernel_size=3, activation='relu', padding='same')(x)\n",
    "x = keras.layers.Conv2D(filters=64, \n",
    "                        kernel_size=3, activation='relu')(x)\n",
    "x = keras.layers.MaxPooling2D(pool_size=2)(x)\n",
    "x = keras.layers.Dropout(rate=0.25)(x)\n",
    "\n",
    "x = keras.layers.Flatten()(x)\n",
    "x = keras.layers.Dense(units=512, activation='relu')(x)\n",
    "x = keras.layers.Dropout(rate=0.25)(x)\n",
    "outputs = keras.layers.Dense(units=10, activation='softmax')(x)\n",
    "\n"
   ]
  },
  {
   "cell_type": "code",
   "execution_count": 145,
   "metadata": {},
   "outputs": [],
   "source": [
    "model = keras.models.Model(inputs=[inputs], outputs=[outputs])"
   ]
  },
  {
   "cell_type": "code",
   "execution_count": 146,
   "metadata": {},
   "outputs": [],
   "source": [
    "model.compile(loss='categorical_crossentropy', \n",
    "              optimizer='rmsprop', \n",
    "              metrics=['accuracy'])"
   ]
  },
  {
   "cell_type": "code",
   "execution_count": 147,
   "metadata": {},
   "outputs": [
    {
     "name": "stdout",
     "output_type": "stream",
     "text": [
      "Train on 50000 samples\n",
      "Epoch 1/5\n",
      "50000/50000 [==============================] - 212s 4ms/sample - loss: 1.4734 - accuracy: 0.4717\n",
      "Epoch 2/5\n",
      "50000/50000 [==============================] - 214s 4ms/sample - loss: 1.0333 - accuracy: 0.6386\n",
      "Epoch 3/5\n",
      "50000/50000 [==============================] - 215s 4ms/sample - loss: 0.9101 - accuracy: 0.6890\n",
      "Epoch 4/5\n",
      "50000/50000 [==============================] - 548s 11ms/sample - loss: 0.8637 - accuracy: 0.7036\n",
      "Epoch 5/5\n",
      "50000/50000 [==============================] - 213s 4ms/sample - loss: 0.8513 - accuracy: 0.7151\n"
     ]
    },
    {
     "data": {
      "text/plain": [
       "<tensorflow.python.keras.callbacks.History at 0x14acfacf8>"
      ]
     },
     "execution_count": 147,
     "metadata": {},
     "output_type": "execute_result"
    }
   ],
   "source": [
    "model.fit(X_train, y_train, epochs=5, batch_size=32)"
   ]
  },
  {
   "cell_type": "code",
   "execution_count": 221,
   "metadata": {},
   "outputs": [
    {
     "data": {
      "image/png": "[encoded data removed]",
      "text/plain": [
       "<Figure size 432x288 with 1 Axes>"
      ]
     },
     "metadata": {
      "needs_background": "light"
     },
     "output_type": "display_data"
    }
   ],
   "source": [
    "plt.title('Loss')\n",
    "plt.plot(model.history.history['loss'])\n",
    "plt.show()"
   ]
  },
  {
   "cell_type": "code",
   "execution_count": 216,
   "metadata": {},
   "outputs": [
    {
     "data": {
      "image/png": "[encoded data removed]",
      "text/plain": [
       "<Figure size 432x288 with 1 Axes>"
      ]
     },
     "metadata": {
      "needs_background": "light"
     },
     "output_type": "display_data"
    }
   ],
   "source": [
    "plt.title('Accuracy')\n",
    "plt.show(model.history.history['accuracy'], color='red')\n",
    "plt.show()"
   ]
  },
  {
   "cell_type": "code",
   "execution_count": 161,
   "metadata": {},
   "outputs": [
    {
     "name": "stdout",
     "output_type": "stream",
     "text": [
      "5000/1 - 4s - loss: 1.3358 - accuracy: 0.7132\n",
      "Test loss: 0.8473509693145752\n",
      "Test accuracy: 0.7132\n"
     ]
    }
   ],
   "source": [
    "# Score trained model\n",
    "scores = model.evaluate(X_test[:5000], y_test[:5000], verbose=2)\n",
    "print('Test loss:', scores[0])\n",
    "print('Test accuracy:', scores[1])"
   ]
  },
  {
   "cell_type": "code",
   "execution_count": 184,
   "metadata": {},
   "outputs": [],
   "source": [
    "\n",
    "\n",
    "cif = CNN_cifar10()\n",
    "cif.compile(loss='categorical_crossentropy', \n",
    "              optimizer='rmsprop', \n",
    "              metrics=['accuracy'])\n"
   ]
  },
  {
   "cell_type": "code",
   "execution_count": 169,
   "metadata": {},
   "outputs": [
    {
     "data": {
      "text/plain": [
       "(50000, 32, 32, 3)"
      ]
     },
     "execution_count": 169,
     "metadata": {},
     "output_type": "execute_result"
    }
   ],
   "source": [
    "# это тоже работает\n",
    "cif.fit(x=X_train, y=y_train, epochs=5, batch_size=32)"
   ]
  },
  {
   "cell_type": "code",
   "execution_count": 189,
   "metadata": {},
   "outputs": [],
   "source": [
    "# make predictions on all test data\n",
    "prediction = model.predict(X_test)"
   ]
  },
  {
   "cell_type": "code",
   "execution_count": 222,
   "metadata": {},
   "outputs": [],
   "source": [
    "def plot_prediction(image_ind):\n",
    "    assert image_ind >= 0\n",
    "#     image_ind = 0\n",
    "\n",
    "    pred_str = \"prediction: {}\\ntruth: {}\".format(classes[np.argmax(prediction[image_ind])],\n",
    "                                              classes[np.argmax(y_test[image_ind])])\n",
    "    plt.title( pred_str )\n",
    "    plt.imshow(X_test[image_ind])\n",
    "    plt.show()"
   ]
  },
  {
   "cell_type": "code",
   "execution_count": 225,
   "metadata": {},
   "outputs": [
    {
     "data": {
      "image/png": "[encoded data removed]",
      "text/plain": [
       "<Figure size 432x288 with 1 Axes>"
      ]
     },
     "metadata": {
      "needs_background": "light"
     },
     "output_type": "display_data"
    }
   ],
   "source": [
    "plot_prediction(6)"
   ]
  },
  {
   "cell_type": "code",
   "execution_count": null,
   "metadata": {},
   "outputs": [],
   "source": []
  }
 ],
 "metadata": {
  "kernelspec": {
   "display_name": "Python 3",
   "language": "python",
   "name": "python3"
  },
  "language_info": {
   "codemirror_mode": {
    "name": "ipython",
    "version": 3
   },
   "file_extension": ".py",
   "mimetype": "text/x-python",
   "name": "python",
   "nbconvert_exporter": "python",
   "pygments_lexer": "ipython3",
   "version": "3.7.3"
  }
 },
 "nbformat": 4,
 "nbformat_minor": 4
}
